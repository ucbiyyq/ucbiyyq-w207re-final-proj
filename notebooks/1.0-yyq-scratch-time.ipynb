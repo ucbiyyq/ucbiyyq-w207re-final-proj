{
 "cells": [
  {
   "cell_type": "markdown",
   "metadata": {},
   "source": [
    "# About\n",
    "\n",
    "test to see if we can get better than 20% accuracy based on the various time features created by SFCCTransformer and one hot encoding"
   ]
  },
  {
   "cell_type": "code",
   "execution_count": 39,
   "metadata": {},
   "outputs": [],
   "source": [
    "import numpy as np\n",
    "import pandas as pd\n",
    "from sklearn.pipeline import Pipeline\n",
    "from sklearn.neighbors import KNeighborsClassifier\n",
    "\n",
    "from pandas.api.types import CategoricalDtype\n",
    "from plotnine import *\n",
    "\n",
    "%reload_ext autoreload\n",
    "%autoreload 2\n",
    "from src.features.build_features import DataFrameSelector, SFCCTransformer, print_summary\n",
    "\n",
    "import inspect"
   ]
  },
  {
   "cell_type": "code",
   "execution_count": 40,
   "metadata": {},
   "outputs": [],
   "source": [
    "# loads data\n",
    "train_pd = pd.read_csv(\"../data/raw/train.csv.zip\", compression=\"zip\")\n",
    "test_pd = pd.read_csv(\"../data/raw/test.csv.zip\", compression=\"zip\")"
   ]
  },
  {
   "cell_type": "code",
   "execution_count": 41,
   "metadata": {},
   "outputs": [
    {
     "name": "stdout",
     "output_type": "stream",
     "text": [
      "702439\n",
      "(702439, 9)\n",
      "(175609, 9)\n",
      "(702439,)\n",
      "(175609,)\n"
     ]
    }
   ],
   "source": [
    "# shuffles, then splits into train and dev sets\n",
    "shuffled = train_pd.sample(frac=1, random_state = 0)\n",
    "split = round(train_pd.shape[0] * 0.8)\n",
    "train_data = shuffled[:split]\n",
    "dev_data = shuffled[split+1:]\n",
    "\n",
    "print(split)\n",
    "print(train_data.shape)\n",
    "print(dev_data.shape)\n",
    "\n",
    "# gets the train and dev labels\n",
    "train_labels = train_data[\"Category\"]\n",
    "dev_labels = dev_data[\"Category\"]\n",
    "\n",
    "print(train_labels.shape)\n",
    "print(dev_labels.shape)"
   ]
  },
  {
   "cell_type": "code",
   "execution_count": 42,
   "metadata": {},
   "outputs": [],
   "source": [
    "# extracts some features from the raw train and test data frames\n",
    "pipe = Pipeline([\n",
    "    (\"transformer\", SFCCTransformer()),\n",
    "    (\"selector\", DataFrameSelector(attribute_names = [\"hour_of_day_sin\", \"hour_of_day_cos\"])),\n",
    "])\n",
    "\n",
    "train_prep = pipe.transform(train_data)\n",
    "dev_prep = pipe.transform(dev_data)\n",
    "test_prep = pipe.transform(test_pd)\n"
   ]
  },
  {
   "cell_type": "code",
   "execution_count": 43,
   "metadata": {},
   "outputs": [
    {
     "name": "stdout",
     "output_type": "stream",
     "text": [
      "(702439, 2)\n",
      "(175609, 2)\n",
      "(884262, 2)\n",
      "[[-0.966 -0.259]\n",
      " [-1.    -0.   ]\n",
      " [-0.866 -0.5  ]]\n",
      "[[ 0.259  0.966]\n",
      " [-0.966 -0.259]\n",
      " [-0.259  0.966]]\n",
      "[[-0.259  0.966]\n",
      " [-0.259  0.966]\n",
      " [-0.259  0.966]]\n"
     ]
    }
   ],
   "source": [
    "# some eda stuff\n",
    "print(train_prep.shape)\n",
    "print(dev_prep.shape)\n",
    "print(test_prep.shape)\n",
    "\n",
    "print(train_prep[0:3])\n",
    "print(dev_prep[0:3])\n",
    "print(test_prep[0:3])\n"
   ]
  },
  {
   "cell_type": "code",
   "execution_count": null,
   "metadata": {},
   "outputs": [],
   "source": [
    "# create classifier pipeline\n",
    "clf_pipeline = Pipeline(steps = [\n",
    "    ('knn', KNeighborsClassifier())\n",
    "])\n",
    "\n",
    "# see \n",
    "# https://scikit-learn.org/stable/tutorial/statistical_inference/putting_together.html\n",
    "# https://stackoverflow.com/questions/42266737/parallel-pipeline-to-get-best-model-using-gridsearch\n",
    "param_grid = {\n",
    "    'knn__n_neighbors': [3, 5, 9, 17, 23]\n",
    "}\n",
    "search = GridSearchCV(clf_pipeline, param_grid, iid = False, cv = 5, return_train_score = False)\n",
    "\n",
    "_ = search.fit(train_prepared, train_labels)\n",
    "print(\"Best parameter (CV score=%0.3f):\" % search.best_score_)\n",
    "print(search.best_params_)\n",
    "\n",
    "# Now evaluate all steps on test set\n",
    "score = search.score(dev_prepared, dev_labels)\n",
    "print(score)"
   ]
  }
 ],
 "metadata": {
  "kernelspec": {
   "display_name": "Python 3",
   "language": "python",
   "name": "python3"
  },
  "language_info": {
   "codemirror_mode": {
    "name": "ipython",
    "version": 3
   },
   "file_extension": ".py",
   "mimetype": "text/x-python",
   "name": "python",
   "nbconvert_exporter": "python",
   "pygments_lexer": "ipython3",
   "version": "3.6.7"
  }
 },
 "nbformat": 4,
 "nbformat_minor": 2
}
