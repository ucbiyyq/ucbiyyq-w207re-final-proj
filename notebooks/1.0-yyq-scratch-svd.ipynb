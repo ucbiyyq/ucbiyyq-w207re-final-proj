{
 "cells": [
  {
   "cell_type": "markdown",
   "metadata": {},
   "source": [
    "# About\n",
    "\n",
    "tests of PCA vs SVD\n",
    "\n",
    "for very large sparse matrices"
   ]
  },
  {
   "cell_type": "code",
   "execution_count": 4,
   "metadata": {},
   "outputs": [],
   "source": [
    "# basic standard libraries\n",
    "import numpy as np\n",
    "import pandas as pd\n",
    "from sklearn.pipeline import Pipeline\n",
    "from sklearn.pipeline import FeatureUnion\n",
    "from sklearn.preprocessing import OneHotEncoder\n",
    "import inspect\n",
    "\n",
    "from sklearn.decomposition import TruncatedSVD\n",
    "\n",
    "# we will using seaborn for data visualization\n",
    "import seaborn as sns\n",
    "import matplotlib.pyplot as plt\n",
    "sns.set(style=\"ticks\", color_codes=True)\n",
    "\n",
    "# we will also need our custom data transformers\n",
    "%reload_ext autoreload\n",
    "%autoreload 2\n",
    "import src.features.build_features as bf"
   ]
  },
  {
   "cell_type": "code",
   "execution_count": 5,
   "metadata": {},
   "outputs": [],
   "source": [
    "train_pd = pd.read_csv(\"../data/raw/train.csv.zip\", compression=\"zip\")\n",
    "test_pd = pd.read_csv(\"../data/raw/test.csv.zip\", compression=\"zip\")\n",
    "sample_submissions = pd.read_csv(\"../data/raw/sampleSubmission.csv.zip\", compression=\"zip\")"
   ]
  },
  {
   "cell_type": "code",
   "execution_count": 6,
   "metadata": {},
   "outputs": [],
   "source": [
    "# shuffles the train and test dataframes\n",
    "train_data, train_labels, dev_data, dev_labels, test_data, test_ids = bf.prep_data(train_pd, test_pd, dev_size = 0.2)\n",
    "\n",
    "# sets up the pipelines to transform the data and extract new features\n",
    "selector1 = bf.DataFrameSelector(attribute_names = [\"X\", \"Y\", \"Dates\", \"PdDistrict\", \"Address\"], as_df = True)\n",
    "sfcc = bf.SFCCTransformer()\n",
    "pipe1 = Pipeline([\n",
    "    (\"selector\", selector1),\n",
    "    (\"sfcc\", sfcc)\n",
    "])\n",
    "\n",
    "selector2 = bf.DataFrameSelector(attribute_names = [\"Address\"], as_df = True)\n",
    "sfcc_addr = bf.SFCCAddressTransformer()\n",
    "ohe = OneHotEncoder()\n",
    "pipe2 = Pipeline([\n",
    "    (\"selector\", selector2),\n",
    "    (\"sfcc\", sfcc_addr),\n",
    "    (\"encoder\", ohe)\n",
    "])\n",
    "\n",
    "full_pipeline = FeatureUnion(transformer_list = [\n",
    "    (\"pipe1\", pipe1),\n",
    "    (\"pipe2\", pipe2)\n",
    "])\n",
    "\n",
    "# extracts new features\n",
    "train_prepared = full_pipeline.fit_transform(train_data)\n",
    "dev_prepared = full_pipeline.fit_transform(dev_data)\n",
    "test_prepared = full_pipeline.fit_transform(test_data)"
   ]
  },
  {
   "cell_type": "code",
   "execution_count": 7,
   "metadata": {},
   "outputs": [
    {
     "name": "stdout",
     "output_type": "stream",
     "text": [
      "================\n",
      "<class 'pandas.core.frame.DataFrame'>\n",
      "['Dates', 'DayOfWeek', 'PdDistrict', 'Address', 'X', 'Y']\n",
      "(702439, 6)\n",
      "<class 'pandas.core.series.Series'>\n",
      "(702439,)\n",
      "================\n",
      "<class 'scipy.sparse.csr.csr_matrix'>\n",
      "(702439, 36638)\n",
      "================\n",
      "<class 'pandas.core.frame.DataFrame'>\n",
      "['Dates', 'DayOfWeek', 'PdDistrict', 'Address', 'X', 'Y']\n",
      "(175610, 6)\n",
      "<class 'pandas.core.series.Series'>\n",
      "(175610,)\n",
      "================\n",
      "<class 'scipy.sparse.csr.csr_matrix'>\n",
      "(175610, 28430)\n",
      "================\n",
      "<class 'pandas.core.frame.DataFrame'>\n",
      "['Dates', 'DayOfWeek', 'PdDistrict', 'Address', 'X', 'Y']\n",
      "(884262, 6)\n",
      "<class 'pandas.core.series.Series'>\n",
      "(884262,)\n",
      "================\n",
      "<class 'scipy.sparse.csr.csr_matrix'>\n",
      "(884262, 37551)\n"
     ]
    }
   ],
   "source": [
    "print(\"================\")\n",
    "print(type(train_data))\n",
    "print(list(train_data.columns))\n",
    "print(train_data.shape)\n",
    "print(type(train_labels))\n",
    "print(train_labels.shape)\n",
    "\n",
    "print(\"================\")\n",
    "print(type(train_prepared))\n",
    "print(train_prepared.shape)\n",
    "\n",
    "print(\"================\")\n",
    "print(type(dev_data))\n",
    "print(list(dev_data.columns))\n",
    "print(dev_data.shape)\n",
    "print(type(dev_labels))\n",
    "print(dev_labels.shape)\n",
    "\n",
    "print(\"================\")\n",
    "print(type(dev_prepared))\n",
    "print(dev_prepared.shape)\n",
    "\n",
    "print(\"================\")\n",
    "print(type(test_data))\n",
    "print(list(test_data.columns))\n",
    "print(test_data.shape)\n",
    "print(type(test_ids))\n",
    "print(test_ids.shape)\n",
    "\n",
    "print(\"================\")\n",
    "print(type(test_prepared))\n",
    "print(test_prepared.shape)"
   ]
  },
  {
   "cell_type": "code",
   "execution_count": 8,
   "metadata": {},
   "outputs": [
    {
     "data": {
      "text/plain": [
       "TruncatedSVD(algorithm='randomized', n_components=100, n_iter=5,\n",
       "       random_state=0, tol=0.0)"
      ]
     },
     "execution_count": 8,
     "metadata": {},
     "output_type": "execute_result"
    }
   ],
   "source": [
    "# note, due to size of sparse matrix, we can't use the PCA learner\n",
    "# so we have to use TruncatedSVD learner instead\n",
    "# note, laptop crashes if n_components much higher than 100\n",
    "svd = TruncatedSVD(n_components = 100, random_state = 0)\n",
    "svd.fit(train_prepared) "
   ]
  },
  {
   "cell_type": "code",
   "execution_count": 9,
   "metadata": {},
   "outputs": [
    {
     "data": {
      "image/png": "[encoded data removed]",
      "text/plain": [
       "<Figure size 432x288 with 1 Axes>"
      ]
     },
     "metadata": {},
     "output_type": "display_data"
    }
   ],
   "source": [
    "plt.plot(np.cumsum(svd.explained_variance_ratio_))\n",
    "plt.title(\"%s pct of total variance explained by %s components\" % (np.round(svd.explained_variance_ratio_.sum() * 100, 0).astype(int) , svd.components_.shape[0]))\n",
    "plt.show()"
   ]
  }
 ],
 "metadata": {
  "kernelspec": {
   "display_name": "Python 3",
   "language": "python",
   "name": "python3"
  },
  "language_info": {
   "codemirror_mode": {
    "name": "ipython",
    "version": 3
   },
   "file_extension": ".py",
   "mimetype": "text/x-python",
   "name": "python",
   "nbconvert_exporter": "python",
   "pygments_lexer": "ipython3",
   "version": "3.6.7"
  }
 },
 "nbformat": 4,
 "nbformat_minor": 2
}
