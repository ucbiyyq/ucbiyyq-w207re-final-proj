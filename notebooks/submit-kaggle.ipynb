{
 "cells": [
  {
   "cell_type": "markdown",
   "metadata": {},
   "source": [
    "# About\n",
    "\n",
    "Scratch notebook to upload some data to Kaggle"
   ]
  },
  {
   "cell_type": "code",
   "execution_count": 6,
   "metadata": {},
   "outputs": [
    {
     "name": "stdout",
     "output_type": "stream",
     "text": [
      "usage: kaggle competitions submit [-h] -f FILE_NAME -m MESSAGE [-q]\n",
      "                                  [competition]\n",
      "\n",
      "required arguments:\n",
      "  -f FILE_NAME, --file FILE_NAME\n",
      "                        File for upload (full path)\n",
      "  -m MESSAGE, --message MESSAGE\n",
      "                        Message describing this submission\n",
      "\n",
      "optional arguments:\n",
      "  -h, --help            show this help message and exit\n",
      "  competition           Competition URL suffix (use \"kaggle competitions list\" to show options)\n",
      "                        If empty, the default competition will be used (use \"kaggle config set competition\")\"\n",
      "  -q, --quiet           Suppress printing information about the upload/download progress\n"
     ]
    }
   ],
   "source": [
    "!kaggle competitions submit -h"
   ]
  },
  {
   "cell_type": "markdown",
   "metadata": {},
   "source": [
    "# Submit!"
   ]
  },
  {
   "cell_type": "code",
   "execution_count": 3,
   "metadata": {},
   "outputs": [
    {
     "name": "stdout",
     "output_type": "stream",
     "text": [
      "Successfully submitted to San Francisco Crime Classification\n"
     ]
    },
    {
     "name": "stderr",
     "output_type": "stream",
     "text": [
      "\n",
      "  0%|          | 0.00/4.78M [00:00<?, ?B/s]\n",
      "  0%|          | 8.00k/4.78M [00:00<01:42, 48.9kB/s]\n",
      "  8%|8         | 400k/4.78M [00:00<01:06, 69.5kB/s] \n",
      " 16%|#6        | 800k/4.78M [00:00<00:42, 98.5kB/s]\n",
      " 30%|##9       | 1.42M/4.78M [00:00<00:25, 140kB/s]\n",
      " 37%|###6      | 1.75M/4.78M [00:01<00:18, 169kB/s]\n",
      " 42%|####1     | 1.99M/4.78M [00:01<00:12, 230kB/s]\n",
      " 46%|####6     | 2.20M/4.78M [00:01<00:08, 307kB/s]\n",
      " 50%|#####     | 2.40M/4.78M [00:02<00:07, 319kB/s]\n",
      " 53%|#####3    | 2.55M/4.78M [00:02<00:05, 417kB/s]\n",
      " 57%|#####6    | 2.71M/4.78M [00:02<00:04, 531kB/s]\n",
      " 60%|#####9    | 2.86M/4.78M [00:02<00:03, 656kB/s]\n",
      " 64%|######4   | 3.08M/4.78M [00:02<00:02, 830kB/s]\n",
      " 68%|######7   | 3.24M/4.78M [00:02<00:01, 952kB/s]\n",
      " 71%|#######1  | 3.40M/4.78M [00:03<00:01, 1.06MB/s]\n",
      " 74%|#######4  | 3.55M/4.78M [00:03<00:01, 1.14MB/s]\n",
      " 77%|#######7  | 3.70M/4.78M [00:03<00:00, 1.23MB/s]\n",
      " 81%|########  | 3.85M/4.78M [00:03<00:00, 1.28MB/s]\n",
      " 84%|########3 | 4.00M/4.78M [00:03<00:00, 1.33MB/s]\n",
      " 87%|########6 | 4.14M/4.78M [00:03<00:00, 1.36MB/s]\n",
      " 90%|########9 | 4.28M/4.78M [00:03<00:00, 1.39MB/s]\n",
      " 93%|#########2| 4.42M/4.78M [00:03<00:00, 1.40MB/s]\n",
      " 95%|#########5| 4.56M/4.78M [00:03<00:00, 1.42MB/s]\n",
      " 98%|#########8| 4.70M/4.78M [00:04<00:00, 1.42MB/s]\n",
      "100%|##########| 4.78M/4.78M [00:05<00:00, 941kB/s] \n"
     ]
    }
   ],
   "source": [
    "!kaggle competitions submit -c sf-crime -f ../data/processed/submission.csv.gz -m \"for mids w207 linda, arthur, yang\""
   ]
  },
  {
   "cell_type": "markdown",
   "metadata": {},
   "source": [
    "# Check"
   ]
  },
  {
   "cell_type": "code",
   "execution_count": 5,
   "metadata": {},
   "outputs": [
    {
     "name": "stdout",
     "output_type": "stream",
     "text": [
      "fileName           date                 description                        status    publicScore  privateScore  \n",
      "-----------------  -------------------  ---------------------------------  --------  -----------  ------------  \n",
      "submission.csv.gz  2019-03-16 19:24:38  for mids w207 linda, arthur, yang  pending   None         None          \n",
      "submission.csv.gz  2019-03-16 18:51:46  for mids w207 linda, arthur, yang  complete  22.10717     None          \n",
      "submission.csv     2019-03-16 17:35:54  for mids w207 linda, arthur, yang  error     None         None          \n"
     ]
    }
   ],
   "source": [
    "!kaggle competitions submissions -c sf-crime"
   ]
  }
 ],
 "metadata": {
  "kernelspec": {
   "display_name": "Python 3",
   "language": "python",
   "name": "python3"
  },
  "language_info": {
   "codemirror_mode": {
    "name": "ipython",
    "version": 3
   },
   "file_extension": ".py",
   "mimetype": "text/x-python",
   "name": "python",
   "nbconvert_exporter": "python",
   "pygments_lexer": "ipython3",
   "version": "3.7.0"
  }
 },
 "nbformat": 4,
 "nbformat_minor": 2
}
