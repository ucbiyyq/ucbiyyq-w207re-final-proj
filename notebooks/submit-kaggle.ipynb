{
 "cells": [
  {
   "cell_type": "markdown",
   "metadata": {},
   "source": [
    "# About\n",
    "\n",
    "Scratch notebook to upload some data to Kaggle\n",
    "\n",
    "* remember to install it in each of your virtual env if you want to use it\n",
    "* https://github.com/Kaggle/kaggle-api"
   ]
  },
  {
   "cell_type": "code",
   "execution_count": 2,
   "metadata": {},
   "outputs": [
    {
     "name": "stdout",
     "output_type": "stream",
     "text": [
      "usage: kaggle competitions submit [-h] -f FILE_NAME -m MESSAGE [-q]\n",
      "                                  [competition]\n",
      "\n",
      "required arguments:\n",
      "  -f FILE_NAME, --file FILE_NAME\n",
      "                        File for upload (full path)\n",
      "  -m MESSAGE, --message MESSAGE\n",
      "                        Message describing this submission\n",
      "\n",
      "optional arguments:\n",
      "  -h, --help            show this help message and exit\n",
      "  competition           Competition URL suffix (use \"kaggle competitions list\" to show options)\n",
      "                        If empty, the default competition will be used (use \"kaggle config set competition\")\"\n",
      "  -q, --quiet           Suppress printing information about the upload/download progress\n"
     ]
    }
   ],
   "source": [
    "!kaggle competitions submit -h"
   ]
  },
  {
   "cell_type": "markdown",
   "metadata": {},
   "source": [
    "# Submit!"
   ]
  },
  {
   "cell_type": "code",
   "execution_count": 3,
   "metadata": {},
   "outputs": [
    {
     "name": "stdout",
     "output_type": "stream",
     "text": [
      "Successfully submitted to San Francisco Crime Classification\n"
     ]
    },
    {
     "name": "stderr",
     "output_type": "stream",
     "text": [
      "\n",
      "  0%|          | 0.00/9.95M [00:00<?, ?B/s]\n",
      "  0%|          | 8.00k/9.95M [00:00<03:58, 43.7kB/s]\n",
      "  4%|3         | 384k/9.95M [00:00<02:41, 62.1kB/s] \n",
      "  8%|7         | 792k/9.95M [00:00<01:49, 88.1kB/s]\n",
      " 14%|#4        | 1.41M/9.95M [00:00<01:11, 125kB/s]\n",
      " 17%|#7        | 1.73M/9.95M [00:01<00:55, 156kB/s]\n",
      " 20%|#9        | 1.97M/9.95M [00:01<00:39, 213kB/s]\n",
      " 22%|##1       | 2.18M/9.95M [00:01<00:28, 287kB/s]\n",
      " 24%|##3       | 2.37M/9.95M [00:02<00:25, 314kB/s]\n",
      " 25%|##5       | 2.52M/9.95M [00:02<00:19, 409kB/s]\n",
      " 27%|##6       | 2.67M/9.95M [00:02<00:14, 526kB/s]\n",
      " 30%|##9       | 2.98M/9.95M [00:02<00:10, 697kB/s]\n",
      " 32%|###1      | 3.17M/9.95M [00:02<00:08, 824kB/s]\n",
      " 34%|###3      | 3.34M/9.95M [00:02<00:07, 955kB/s]\n",
      " 35%|###5      | 3.51M/9.95M [00:02<00:06, 1.07MB/s]\n",
      " 37%|###6      | 3.66M/9.95M [00:03<00:05, 1.16MB/s]\n",
      " 38%|###8      | 3.82M/9.95M [00:03<00:05, 1.22MB/s]\n",
      " 40%|####      | 3.98M/9.95M [00:03<00:04, 1.29MB/s]\n",
      " 42%|####1     | 4.13M/9.95M [00:03<00:04, 1.36MB/s]\n",
      " 43%|####3     | 4.28M/9.95M [00:03<00:04, 1.34MB/s]\n",
      " 44%|####4     | 4.42M/9.95M [00:03<00:04, 1.37MB/s]\n",
      " 46%|####5     | 4.56M/9.95M [00:03<00:04, 1.39MB/s]\n",
      " 47%|####7     | 4.70M/9.95M [00:03<00:03, 1.42MB/s]\n",
      " 49%|####8     | 4.84M/9.95M [00:03<00:03, 1.42MB/s]\n",
      " 50%|#####     | 4.99M/9.95M [00:04<00:03, 1.43MB/s]\n",
      " 52%|#####1    | 5.13M/9.95M [00:04<00:03, 1.44MB/s]\n",
      " 53%|#####2    | 5.27M/9.95M [00:04<00:03, 1.43MB/s]\n",
      " 54%|#####4    | 5.42M/9.95M [00:04<00:03, 1.46MB/s]\n",
      " 56%|#####5    | 5.56M/9.95M [00:04<00:03, 1.47MB/s]\n",
      " 57%|#####7    | 5.70M/9.95M [00:04<00:03, 1.46MB/s]\n",
      " 59%|#####8    | 5.84M/9.95M [00:04<00:03, 1.42MB/s]\n",
      " 60%|######    | 5.99M/9.95M [00:04<00:02, 1.45MB/s]\n",
      " 62%|######1   | 6.13M/9.95M [00:04<00:02, 1.45MB/s]\n",
      " 63%|######3   | 6.29M/9.95M [00:04<00:02, 1.44MB/s]\n",
      " 65%|######4   | 6.43M/9.95M [00:05<00:02, 1.44MB/s]\n",
      " 66%|######6   | 6.58M/9.95M [00:05<00:02, 1.45MB/s]\n",
      " 68%|######7   | 6.73M/9.95M [00:05<00:02, 1.43MB/s]\n",
      " 69%|######9   | 6.89M/9.95M [00:05<00:02, 1.44MB/s]\n",
      " 71%|#######   | 7.03M/9.95M [00:05<00:02, 1.44MB/s]\n",
      " 72%|#######2  | 7.17M/9.95M [00:05<00:02, 1.45MB/s]\n",
      " 73%|#######3  | 7.31M/9.95M [00:05<00:01, 1.45MB/s]\n",
      " 75%|#######4  | 7.45M/9.95M [00:05<00:01, 1.45MB/s]\n",
      " 76%|#######6  | 7.59M/9.95M [00:05<00:01, 1.45MB/s]\n",
      " 78%|#######7  | 7.73M/9.95M [00:05<00:01, 1.46MB/s]\n",
      " 79%|#######9  | 7.88M/9.95M [00:06<00:01, 1.46MB/s]\n",
      " 81%|########  | 8.02M/9.95M [00:06<00:01, 1.44MB/s]\n",
      " 82%|########2 | 8.16M/9.95M [00:06<00:01, 1.46MB/s]\n",
      " 83%|########3 | 8.30M/9.95M [00:06<00:01, 1.46MB/s]\n",
      " 85%|########4 | 8.45M/9.95M [00:06<00:01, 1.45MB/s]\n",
      " 86%|########6 | 8.59M/9.95M [00:06<00:00, 1.45MB/s]\n",
      " 88%|########7 | 8.75M/9.95M [00:06<00:00, 1.47MB/s]\n",
      " 89%|########9 | 8.91M/9.95M [00:06<00:00, 1.46MB/s]\n",
      " 91%|######### | 9.05M/9.95M [00:06<00:00, 1.44MB/s]\n",
      " 92%|#########2| 9.19M/9.95M [00:07<00:00, 1.44MB/s]\n",
      " 94%|#########3| 9.33M/9.95M [00:07<00:00, 1.45MB/s]\n",
      " 95%|#########5| 9.48M/9.95M [00:07<00:00, 1.45MB/s]\n",
      " 97%|#########6| 9.64M/9.95M [00:07<00:00, 1.45MB/s]\n",
      " 98%|#########8| 9.78M/9.95M [00:07<00:00, 1.45MB/s]\n",
      "100%|#########9| 9.93M/9.95M [00:07<00:00, 1.45MB/s]\n",
      "100%|##########| 9.95M/9.95M [00:08<00:00, 1.20MB/s]\n"
     ]
    }
   ],
   "source": [
    "!kaggle competitions submit -c sf-crime -f ../data/processed/submission.csv.gz -m \"for mids w207 linda, arthur, yang\""
   ]
  },
  {
   "cell_type": "markdown",
   "metadata": {},
   "source": [
    "# Check\n",
    "\n",
    "https://www.kaggle.com/c/sf-crime/submissions"
   ]
  },
  {
   "cell_type": "code",
   "execution_count": 6,
   "metadata": {},
   "outputs": [
    {
     "name": "stdout",
     "output_type": "stream",
     "text": [
      "fileName           date                 description                        status    publicScore  privateScore  \n",
      "-----------------  -------------------  ---------------------------------  --------  -----------  ------------  \n",
      "submission.csv.gz  2019-04-06 20:41:43  for mids w207 linda, arthur, yang  complete  7.60517      None          \n",
      "submission.csv.gz  2019-03-16 19:24:38  for mids w207 linda, arthur, yang  complete  22.10717     None          \n",
      "submission.csv.gz  2019-03-16 18:51:46  for mids w207 linda, arthur, yang  complete  22.10717     None          \n",
      "submission.csv     2019-03-16 17:35:54  for mids w207 linda, arthur, yang  error     None         None          \n"
     ]
    }
   ],
   "source": [
    "!kaggle competitions submissions -c sf-crime"
   ]
  }
 ],
 "metadata": {
  "kernelspec": {
   "display_name": "Python 3",
   "language": "python",
   "name": "python3"
  },
  "language_info": {
   "codemirror_mode": {
    "name": "ipython",
    "version": 3
   },
   "file_extension": ".py",
   "mimetype": "text/x-python",
   "name": "python",
   "nbconvert_exporter": "python",
   "pygments_lexer": "ipython3",
   "version": "3.6.7"
  }
 },
 "nbformat": 4,
 "nbformat_minor": 2
}
