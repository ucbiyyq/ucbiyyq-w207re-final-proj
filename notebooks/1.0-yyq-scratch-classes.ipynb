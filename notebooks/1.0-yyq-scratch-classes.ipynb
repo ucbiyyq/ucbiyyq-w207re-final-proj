{
 "cells": [
  {
   "cell_type": "markdown",
   "metadata": {},
   "source": [
    "# About\n",
    "\n",
    "try to use custom classes in the src folder\n",
    "\n",
    "see\n",
    "* https://drivendata.github.io/cookiecutter-data-science/#getting-started\n",
    "* https://medium.com/@rrfd/cookiecutter-data-science-organize-your-projects-atom-and-jupyter-2be7862f487e\n",
    "* https://docs.conda.io/projects/conda/en/latest/user-guide/tasks/manage-environments.html#create-env-file-manually\n",
    "* https://packaging.python.org/tutorials/installing-packages/#installing-from-a-local-src-tree\n",
    "* https://github.com/kennethreitz/setup.py\n",
    "\n",
    "\n",
    "Steps to redo:\n",
    "\n",
    "1. use environment.yml file to set up project's anaconda environment\n",
    "2. use cookicutter template to set up project itself, especially the setup.py file\n",
    "3. run pip install --editable . to install the src files"
   ]
  },
  {
   "cell_type": "code",
   "execution_count": 1,
   "metadata": {},
   "outputs": [],
   "source": [
    "# OPTIONAL: use inline matplotlib\n",
    "%matplotlib inline\n",
    "\n",
    "# OPTIONAL: Load the \"autoreload\" extension so that code can change\n",
    "%reload_ext autoreload\n",
    "\n",
    "# OPTIONAL: always reload modules so that as you change code in src, it gets loaded\n",
    "%autoreload 2\n",
    "\n",
    "import matplotlib.pyplot as plt\n",
    "\n",
    "import numpy as np\n",
    "import pandas as pd\n",
    "from sklearn.pipeline import Pipeline\n",
    "\n",
    "from src.features.build_features import DataFrameSelector, MyTransformer, SFCCTransformer"
   ]
  },
  {
   "cell_type": "code",
   "execution_count": 2,
   "metadata": {},
   "outputs": [],
   "source": [
    "# loads data\n",
    "train_pd = pd.read_csv(\"../data/raw/train.csv.zip\", compression=\"zip\")\n",
    "test_pd = pd.read_csv(\"../data/raw/test.csv.zip\", compression=\"zip\")"
   ]
  },
  {
   "cell_type": "markdown",
   "metadata": {},
   "source": [
    "# MyTransformer\n",
    "\n",
    "check if we can create and use an instance of MyTransformer with Pipeline"
   ]
  },
  {
   "cell_type": "code",
   "execution_count": 27,
   "metadata": {},
   "outputs": [
    {
     "name": "stdout",
     "output_type": "stream",
     "text": [
      "                 Dates        Category                  Descript  DayOfWeek  \\\n",
      "0  2015-05-13 23:53:00        WARRANTS            WARRANT ARREST  Wednesday   \n",
      "1  2015-05-13 23:53:00  OTHER OFFENSES  TRAFFIC VIOLATION ARREST  Wednesday   \n",
      "\n",
      "  PdDistrict      Resolution             Address           X          Y  \\\n",
      "0   NORTHERN  ARREST, BOOKED  OAK ST / LAGUNA ST -122.425892  37.774599   \n",
      "1   NORTHERN  ARREST, BOOKED  OAK ST / LAGUNA ST -122.425892  37.774599   \n",
      "\n",
      "           Z  \n",
      "0 -84.651293  \n",
      "1 -84.651293  \n"
     ]
    }
   ],
   "source": [
    "silly = MyTransformer()\n",
    "\n",
    "pipeline = Pipeline([\n",
    "    ('silly', silly),\n",
    "])\n",
    "\n",
    "test = pipeline.transform(train_pd)\n",
    "print(test.head(2))"
   ]
  },
  {
   "cell_type": "markdown",
   "metadata": {},
   "source": [
    "# DataFrameSelector\n",
    "\n",
    "check if we can create and use an instance of DataFrameSelector with Pipeline"
   ]
  },
  {
   "cell_type": "code",
   "execution_count": 30,
   "metadata": {},
   "outputs": [
    {
     "name": "stdout",
     "output_type": "stream",
     "text": [
      "[[-122.42589168   37.7745986 ]\n",
      " [-122.42589168   37.7745986 ]\n",
      " [-122.42436302   37.80041432]\n",
      " [-122.42699533   37.80087263]\n",
      " [-122.43873762   37.77154117]\n",
      " [-122.40325236   37.7134307 ]\n",
      " [-122.42332698   37.72513804]\n",
      " [-122.37127432   37.72756407]\n",
      " [-122.50819403   37.77660126]\n",
      " [-122.41908768   37.80780155]]\n"
     ]
    }
   ],
   "source": [
    "num_features = [\"X\", \"Y\"]\n",
    "\n",
    "num_pipeline = Pipeline([\n",
    "    (\"selector\", DataFrameSelector(num_features))\n",
    "])\n",
    "\n",
    "train_prepared = num_pipeline.transform(train_pd)\n",
    "\n",
    "print(train_prepared[0:10])"
   ]
  },
  {
   "cell_type": "markdown",
   "metadata": {},
   "source": [
    "# Print Code for DataFrameSelector\n",
    "\n",
    "check if we can print the source code for our DataFrameSelector class\n",
    "\n",
    "* in case we need to do so in our real notebook we turn into Isabell"
   ]
  },
  {
   "cell_type": "code",
   "execution_count": 33,
   "metadata": {},
   "outputs": [
    {
     "name": "stdout",
     "output_type": "stream",
     "text": [
      "class DataFrameSelector(BaseEstimator, TransformerMixin): \n",
      "    \"\"\"\n",
      "    Simple helper class, meant make it easier to use Pandas \n",
      "    along with sklearn Pipeline. Create and initate with a \n",
      "    list of features, then when the pipeline transform function\n",
      "    is called, will return a Numpy array of the features.\n",
      "    \n",
      "    See Chap 2 transformation pipelines\n",
      "    \n",
      "    Example:\n",
      "        train_pd = pd.read_csv(\"data.csv\")\n",
      "        num_features = [\"X\", \"Y\"]\n",
      "        num_pipeline = Pipeline([\n",
      "            (\"selector\", DataFrameSelector(num_features))\n",
      "        ])\n",
      "        train_prepared = num_pipeline.transform(train_pd)\n",
      "        \n",
      "    \"\"\"\n",
      "    def __init__(self, attribute_names): \n",
      "        self.attribute_names = attribute_names \n",
      "        \n",
      "    def fit(self, X, y = None): \n",
      "        return self \n",
      "    \n",
      "    def transform(self, X): \n",
      "        return X[self.attribute_names].values\n",
      "\n"
     ]
    }
   ],
   "source": [
    "import inspect\n",
    "lines = inspect.getsource(DataFrameSelector)\n",
    "print(lines)"
   ]
  },
  {
   "cell_type": "markdown",
   "metadata": {},
   "source": [
    "# SFCCTransformer"
   ]
  },
  {
   "cell_type": "code",
   "execution_count": 62,
   "metadata": {},
   "outputs": [
    {
     "name": "stdout",
     "output_type": "stream",
     "text": [
      "          hour_delta      day_delta     week_delta    month_delta  \\\n",
      "count  878049.000000  878049.000000  878049.000000  878049.000000   \n",
      "mean    54271.786110    2260.778323     322.540805      73.797015   \n",
      "std     31808.213578    1325.343365     189.330707      43.540851   \n",
      "min         0.000000       0.000000       0.000000       0.000000   \n",
      "25%     26426.000000    1101.000000     157.000000      36.000000   \n",
      "50%     54063.000000    2252.000000     321.000000      74.000000   \n",
      "75%     82666.000000    3444.000000     492.000000     113.000000   \n",
      "max    108263.000000    4510.000000     644.000000     148.000000   \n",
      "\n",
      "          year_delta  \n",
      "count  878049.000000  \n",
      "mean        5.708516  \n",
      "std         3.630844  \n",
      "min         0.000000  \n",
      "25%         3.000000  \n",
      "50%         6.000000  \n",
      "75%         9.000000  \n",
      "max        12.000000  \n",
      "         hour_of_day   day_of_month   week_of_year  month_of_year  \\\n",
      "count  878049.000000  878049.000000  878049.000000  878049.000000   \n",
      "mean       13.412655      15.570623      26.370916       6.436509   \n",
      "std         6.549573       8.783005      14.965880       3.428972   \n",
      "min         0.000000       1.000000       2.000000       1.000000   \n",
      "25%         9.000000       8.000000      14.000000       3.000000   \n",
      "50%        14.000000      16.000000      26.000000       6.000000   \n",
      "75%        19.000000      23.000000      40.000000       9.000000   \n",
      "max        23.000000      31.000000      52.000000      12.000000   \n",
      "\n",
      "       quarter_of_year           year  \n",
      "count    878049.000000  878049.000000  \n",
      "mean          2.485547    2008.712046  \n",
      "std           1.117839       3.631194  \n",
      "min           1.000000    2003.000000  \n",
      "25%           1.000000    2006.000000  \n",
      "50%           2.000000    2009.000000  \n",
      "75%           3.000000    2012.000000  \n",
      "max           4.000000    2015.000000  \n",
      "DayOfWeek  is_weekend\n",
      "Friday     0             133734\n",
      "Monday     0             121584\n",
      "Saturday   1             126810\n",
      "Sunday     1             116707\n",
      "Thursday   0             125038\n",
      "Tuesday    0             124965\n",
      "Wednesday  0             129211\n",
      "dtype: int64\n",
      "is_holiday\n",
      "0    852396\n",
      "1     25653\n",
      "dtype: int64\n"
     ]
    }
   ],
   "source": [
    "sfcc = SFCCTransformer()\n",
    "\n",
    "pipe = Pipeline([\n",
    "    (\"transformer\", sfcc)\n",
    "])\n",
    "\n",
    "df = pipe.transform(train_pd)\n",
    "\n",
    "res = df[[\"Dates\", \"DayOfWeek\"\n",
    "          , \"hour_delta\", \"day_delta\", \"week_delta\", \"month_delta\", \"year_delta\"\n",
    "          , \"hour_of_day\", \"day_of_month\", \"week_of_year\", \"month_of_year\", \"quarter_of_year\", \"year\"\n",
    "          , \"is_weekend\", \"is_holiday\"\n",
    "         ]].sort_values(\"Dates\")\n",
    "\n",
    "print(res[[\"hour_delta\", \"day_delta\", \"week_delta\", \"month_delta\", \"year_delta\"]].describe())\n",
    "print(res[[\"hour_of_day\", \"day_of_month\", \"week_of_year\", \"month_of_year\", \"quarter_of_year\", \"year\"]].describe())\n",
    "print(res.groupby([\"DayOfWeek\", \"is_weekend\"]).size())\n",
    "print(res.groupby([\"is_holiday\"]).size())\n"
   ]
  }
 ],
 "metadata": {
  "kernelspec": {
   "display_name": "Python 3",
   "language": "python",
   "name": "python3"
  },
  "language_info": {
   "codemirror_mode": {
    "name": "ipython",
    "version": 3
   },
   "file_extension": ".py",
   "mimetype": "text/x-python",
   "name": "python",
   "nbconvert_exporter": "python",
   "pygments_lexer": "ipython3",
   "version": "3.6.7"
  }
 },
 "nbformat": 4,
 "nbformat_minor": 2
}
