{
 "cells": [
  {
   "cell_type": "markdown",
   "metadata": {},
   "source": [
    "# About\n",
    "\n",
    "try to use custom classes in the src folder\n",
    "\n",
    "see\n",
    "* https://drivendata.github.io/cookiecutter-data-science/#getting-started\n",
    "* https://medium.com/@rrfd/cookiecutter-data-science-organize-your-projects-atom-and-jupyter-2be7862f487e\n",
    "* https://docs.conda.io/projects/conda/en/latest/user-guide/tasks/manage-environments.html#create-env-file-manually\n",
    "* https://packaging.python.org/tutorials/installing-packages/#installing-from-a-local-src-tree\n",
    "* https://github.com/kennethreitz/setup.py\n",
    "\n",
    "\n",
    "Steps to redo:\n",
    "\n",
    "1. use environment.yml file to set up project's anaconda environment\n",
    "2. use cookicutter template to set up project itself, especially the setup.py file\n",
    "3. run pip install --editable . to install the src files"
   ]
  },
  {
   "cell_type": "code",
   "execution_count": 32,
   "metadata": {},
   "outputs": [],
   "source": [
    "# OPTIONAL: use inline matplotlib\n",
    "%matplotlib inline\n",
    "\n",
    "# OPTIONAL: Load the \"autoreload\" extension so that code can change\n",
    "%reload_ext autoreload\n",
    "\n",
    "# OPTIONAL: always reload modules so that as you change code in src, it gets loaded\n",
    "%autoreload 2\n",
    "\n",
    "import matplotlib.pyplot as plt\n",
    "\n",
    "import numpy as np\n",
    "import pandas as pd\n",
    "\n",
    "from src.features.build_features import DataFrameSelector, MyTransformer"
   ]
  },
  {
   "cell_type": "code",
   "execution_count": 6,
   "metadata": {},
   "outputs": [],
   "source": [
    "# loads data\n",
    "train_pd = pd.read_csv(\"../data/raw/train.csv.zip\", compression=\"zip\")\n",
    "test_pd = pd.read_csv(\"../data/raw/test.csv.zip\", compression=\"zip\")"
   ]
  },
  {
   "cell_type": "code",
   "execution_count": 27,
   "metadata": {},
   "outputs": [
    {
     "name": "stdout",
     "output_type": "stream",
     "text": [
      "                 Dates        Category                  Descript  DayOfWeek  \\\n",
      "0  2015-05-13 23:53:00        WARRANTS            WARRANT ARREST  Wednesday   \n",
      "1  2015-05-13 23:53:00  OTHER OFFENSES  TRAFFIC VIOLATION ARREST  Wednesday   \n",
      "\n",
      "  PdDistrict      Resolution             Address           X          Y  \\\n",
      "0   NORTHERN  ARREST, BOOKED  OAK ST / LAGUNA ST -122.425892  37.774599   \n",
      "1   NORTHERN  ARREST, BOOKED  OAK ST / LAGUNA ST -122.425892  37.774599   \n",
      "\n",
      "           Z  \n",
      "0 -84.651293  \n",
      "1 -84.651293  \n"
     ]
    }
   ],
   "source": [
    "# check if we can create an instance of MyTransformer\n",
    "silly = MyTransformer()\n",
    "pipeline = Pipeline([\n",
    "    ('silly', silly),\n",
    "])\n",
    "\n",
    "test = pipeline.transform(train_pd)\n",
    "print(test.head(2))"
   ]
  },
  {
   "cell_type": "code",
   "execution_count": 30,
   "metadata": {},
   "outputs": [
    {
     "name": "stdout",
     "output_type": "stream",
     "text": [
      "[[-122.42589168   37.7745986 ]\n",
      " [-122.42589168   37.7745986 ]\n",
      " [-122.42436302   37.80041432]\n",
      " [-122.42699533   37.80087263]\n",
      " [-122.43873762   37.77154117]\n",
      " [-122.40325236   37.7134307 ]\n",
      " [-122.42332698   37.72513804]\n",
      " [-122.37127432   37.72756407]\n",
      " [-122.50819403   37.77660126]\n",
      " [-122.41908768   37.80780155]]\n"
     ]
    }
   ],
   "source": [
    "# check if we can create and use an instance of dataframe selector\n",
    "from sklearn.pipeline import Pipeline\n",
    "\n",
    "num_features = [\"X\", \"Y\"]\n",
    "\n",
    "num_pipeline = Pipeline([\n",
    "    (\"selector\", DataFrameSelector(num_features))\n",
    "])\n",
    "\n",
    "train_prepared = num_pipeline.transform(train_pd)\n",
    "\n",
    "print(train_prepared[0:10])"
   ]
  },
  {
   "cell_type": "code",
   "execution_count": 33,
   "metadata": {},
   "outputs": [
    {
     "name": "stdout",
     "output_type": "stream",
     "text": [
      "class DataFrameSelector(BaseEstimator, TransformerMixin): \n",
      "    \"\"\"\n",
      "    Simple helper class, meant make it easier to use Pandas \n",
      "    along with sklearn Pipeline. Create and initate with a \n",
      "    list of features, then when the pipeline transform function\n",
      "    is called, will return a Numpy array of the features.\n",
      "    \n",
      "    See Chap 2 transformation pipelines\n",
      "    \n",
      "    Example:\n",
      "        train_pd = pd.read_csv(\"data.csv\")\n",
      "        num_features = [\"X\", \"Y\"]\n",
      "        num_pipeline = Pipeline([\n",
      "            (\"selector\", DataFrameSelector(num_features))\n",
      "        ])\n",
      "        train_prepared = num_pipeline.transform(train_pd)\n",
      "        \n",
      "    \"\"\"\n",
      "    def __init__(self, attribute_names): \n",
      "        self.attribute_names = attribute_names \n",
      "        \n",
      "    def fit(self, X, y = None): \n",
      "        return self \n",
      "    \n",
      "    def transform(self, X): \n",
      "        return X[self.attribute_names].values\n",
      "\n"
     ]
    }
   ],
   "source": [
    "# check if we can print the source code for our dataframe selector class\n",
    "import inspect\n",
    "lines = inspect.getsource(DataFrameSelector)\n",
    "print(lines)"
   ]
  }
 ],
 "metadata": {
  "kernelspec": {
   "display_name": "Python 3",
   "language": "python",
   "name": "python3"
  },
  "language_info": {
   "codemirror_mode": {
    "name": "ipython",
    "version": 3
   },
   "file_extension": ".py",
   "mimetype": "text/x-python",
   "name": "python",
   "nbconvert_exporter": "python",
   "pygments_lexer": "ipython3",
   "version": "3.6.7"
  }
 },
 "nbformat": 4,
 "nbformat_minor": 2
}
