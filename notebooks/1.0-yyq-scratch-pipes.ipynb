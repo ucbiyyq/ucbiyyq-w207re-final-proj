{
 "cells": [
  {
   "cell_type": "markdown",
   "metadata": {},
   "source": [
    "# About\n",
    "\n",
    "test notebook to figure out how sklearn pipeslines work"
   ]
  },
  {
   "cell_type": "code",
   "execution_count": 11,
   "metadata": {},
   "outputs": [],
   "source": [
    "%matplotlib inline\n",
    "import matplotlib.pyplot as plt\n",
    "\n",
    "import numpy as np\n",
    "import pandas as pd\n",
    "from sklearn.pipeline import Pipeline\n",
    "from sklearn.neighbors import KNeighborsClassifier\n",
    "from sklearn.preprocessing import OneHotEncoder"
   ]
  },
  {
   "cell_type": "markdown",
   "metadata": {},
   "source": [
    "# Loads Data"
   ]
  },
  {
   "cell_type": "code",
   "execution_count": 17,
   "metadata": {},
   "outputs": [],
   "source": [
    "# loads data\n",
    "train_pd = pd.read_csv(\"../data/raw/train.csv.zip\", compression=\"zip\")\n",
    "test_pd = pd.read_csv(\"../data/raw/test.csv.zip\", compression=\"zip\")"
   ]
  },
  {
   "cell_type": "markdown",
   "metadata": {},
   "source": [
    "# the usual way"
   ]
  },
  {
   "cell_type": "code",
   "execution_count": 29,
   "metadata": {},
   "outputs": [
    {
     "name": "stderr",
     "output_type": "stream",
     "text": [
      "C:\\Users\\yangyq\\Anaconda3\\envs\\rstudio\\lib\\site-packages\\ipykernel_launcher.py:21: SettingWithCopyWarning: \n",
      "A value is trying to be set on a copy of a slice from a DataFrame.\n",
      "Try using .loc[row_indexer,col_indexer] = value instead\n",
      "\n",
      "See the caveats in the documentation: http://pandas.pydata.org/pandas-docs/stable/indexing.html#indexing-view-versus-copy\n",
      "C:\\Users\\yangyq\\Anaconda3\\envs\\rstudio\\lib\\site-packages\\ipykernel_launcher.py:22: SettingWithCopyWarning: \n",
      "A value is trying to be set on a copy of a slice from a DataFrame.\n",
      "Try using .loc[row_indexer,col_indexer] = value instead\n",
      "\n",
      "See the caveats in the documentation: http://pandas.pydata.org/pandas-docs/stable/indexing.html#indexing-view-versus-copy\n",
      "C:\\Users\\yangyq\\Anaconda3\\envs\\rstudio\\lib\\site-packages\\ipykernel_launcher.py:23: SettingWithCopyWarning: \n",
      "A value is trying to be set on a copy of a slice from a DataFrame.\n",
      "Try using .loc[row_indexer,col_indexer] = value instead\n",
      "\n",
      "See the caveats in the documentation: http://pandas.pydata.org/pandas-docs/stable/indexing.html#indexing-view-versus-copy\n"
     ]
    },
    {
     "name": "stdout",
     "output_type": "stream",
     "text": [
      "0.19817321435689514\n"
     ]
    }
   ],
   "source": [
    "# shuffles, then splits into train and dev sets\n",
    "shuffled = train_pd.sample(frac=1)\n",
    "split = round(train_pd.shape[0] * 0.8)\n",
    "train_data = shuffled[:split]\n",
    "dev_data = shuffled[split+1:]\n",
    "\n",
    "# splits the labels from the features\n",
    "features = [\"X\", \"Y\"]\n",
    "train_features = train_data[features]\n",
    "train_labels = train_data[\"Category\"]\n",
    "\n",
    "dev_features = dev_data[features]\n",
    "dev_labels = dev_data[\"Category\"]\n",
    "\n",
    "test_features = test_pd[features]\n",
    "\n",
    "# does a silly transformation\n",
    "def silly(df):\n",
    "    return df.X + df.Y\n",
    "\n",
    "train_features[\"Z\"] = silly(train_features)\n",
    "dev_features[\"Z\"] = silly(dev_features)\n",
    "test_features[\"Z\"] = silly(test_features)\n",
    "\n",
    "# uses a simple knn\n",
    "clsfr = KNeighborsClassifier(n_neighbors = 3)\n",
    "clsfr.fit(train_features, train_labels)\n",
    "\n",
    "# checks basic accuracy\n",
    "score = clsfr.score(dev_features, dev_labels)\n",
    "print(score)\n"
   ]
  },
  {
   "cell_type": "markdown",
   "metadata": {},
   "source": [
    "# with pipelines"
   ]
  },
  {
   "cell_type": "code",
   "execution_count": 37,
   "metadata": {},
   "outputs": [
    {
     "name": "stderr",
     "output_type": "stream",
     "text": [
      "C:\\Users\\yangyq\\Anaconda3\\envs\\rstudio\\lib\\site-packages\\ipykernel_launcher.py:31: SettingWithCopyWarning: \n",
      "A value is trying to be set on a copy of a slice from a DataFrame.\n",
      "Try using .loc[row_indexer,col_indexer] = value instead\n",
      "\n",
      "See the caveats in the documentation: http://pandas.pydata.org/pandas-docs/stable/indexing.html#indexing-view-versus-copy\n",
      "C:\\Users\\yangyq\\Anaconda3\\envs\\rstudio\\lib\\site-packages\\ipykernel_launcher.py:31: SettingWithCopyWarning: \n",
      "A value is trying to be set on a copy of a slice from a DataFrame.\n",
      "Try using .loc[row_indexer,col_indexer] = value instead\n",
      "\n",
      "See the caveats in the documentation: http://pandas.pydata.org/pandas-docs/stable/indexing.html#indexing-view-versus-copy\n"
     ]
    },
    {
     "name": "stdout",
     "output_type": "stream",
     "text": [
      "0.20146461741710278\n"
     ]
    }
   ],
   "source": [
    "from sklearn.base import BaseEstimator, TransformerMixin\n",
    "\n",
    "# shuffles, then splits into train and dev sets\n",
    "shuffled = train_pd.sample(frac=1)\n",
    "split = round(train_pd.shape[0] * 0.8)\n",
    "train_data = shuffled[:split]\n",
    "dev_data = shuffled[split+1:]\n",
    "\n",
    "# splits the labels from the features\n",
    "features = [\"X\", \"Y\"]\n",
    "train_features = train_data[features]\n",
    "train_labels = train_data[\"Category\"]\n",
    "\n",
    "dev_features = dev_data[features]\n",
    "dev_labels = dev_data[\"Category\"]\n",
    "\n",
    "test_features = test_pd[features]\n",
    "\n",
    "# see https://stackoverflow.com/questions/33091376/python-what-is-exactly-sklearn-pipeline-pipeline\n",
    "\n",
    "class MyTransformer(BaseEstimator, TransformerMixin):\n",
    "    def __init__(self):\n",
    "        pass # nothing to init\n",
    "        \n",
    "    def fit(self, X, y = None):\n",
    "        return self # no fitting\n",
    "    \n",
    "    def transform(self, X, y = None):\n",
    "        def silly(df):\n",
    "            return df.X + df.Y\n",
    "        X[\"Z\"] = silly(X)\n",
    "        return X\n",
    "    \n",
    "    \n",
    "# use pipeline\n",
    "pipeline = Pipeline([\n",
    "    ('silly', MyTransformer()),\n",
    "    ('clf', KNeighborsClassifier(n_neighbors = 3)),\n",
    "])\n",
    "_ = pipeline.fit(train_features, train_labels)\n",
    "# Now evaluate all steps on test set\n",
    "score = pipeline.score(dev_features, dev_labels)\n",
    "print(score)"
   ]
  },
  {
   "cell_type": "code",
   "execution_count": null,
   "metadata": {},
   "outputs": [],
   "source": []
  }
 ],
 "metadata": {
  "kernelspec": {
   "display_name": "Python 3",
   "language": "python",
   "name": "python3"
  },
  "language_info": {
   "codemirror_mode": {
    "name": "ipython",
    "version": 3
   },
   "file_extension": ".py",
   "mimetype": "text/x-python",
   "name": "python",
   "nbconvert_exporter": "python",
   "pygments_lexer": "ipython3",
   "version": "3.7.1"
  }
 },
 "nbformat": 4,
 "nbformat_minor": 2
}
