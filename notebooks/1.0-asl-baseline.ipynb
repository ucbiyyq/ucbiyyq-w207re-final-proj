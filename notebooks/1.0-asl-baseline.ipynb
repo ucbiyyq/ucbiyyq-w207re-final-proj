{
 "cells": [
  {
   "cell_type": "markdown",
   "metadata": {},
   "source": [
    "# Final Project 2: San Francisco Crime Classification"
   ]
  },
  {
   "cell_type": "markdown",
   "metadata": {},
   "source": [
    "From 1934 to 1963, San Francisco was infamous for housing some of the world's most notorious criminals on the inescapable island of Alcatraz.\n",
    "\n",
    "Today, the city is known more for its tech scene than its criminal past. But, with rising wealth inequality, housing shortages, and a proliferation of expensive digital toys riding BART to work, there is no scarcity of crime in the city by the bay.\n",
    "\n",
    "From Sunset to SOMA, and Marina to Excelsior, this competition's dataset provides nearly 12 years of crime reports from across all of San Francisco's neighborhoods. Given time and location, you must predict the category of crime that occurred.\n",
    "\n",
    "We're also encouraging you to explore the dataset visually. What can we learn about the city through visualizations like this Top Crimes Map? The top most up-voted scripts from this competition will receive official Kaggle swag as prizes. "
   ]
  },
  {
   "cell_type": "code",
   "execution_count": 1,
   "metadata": {},
   "outputs": [],
   "source": [
    "# This tells matplotlib not to try opening a new window for each plot.\n",
    "%matplotlib inline\n",
    "\n",
    "# General libraries.\n",
    "import re\n",
    "import numpy as np\n",
    "import matplotlib.pyplot as plt\n",
    "import pandas as pd\n",
    "\n",
    "# SK-learn libraries for learning.\n",
    "from sklearn.pipeline import Pipeline\n",
    "from sklearn.neighbors import KNeighborsClassifier\n",
    "from sklearn.linear_model import LogisticRegression\n",
    "from sklearn.naive_bayes import BernoulliNB\n",
    "from sklearn.naive_bayes import MultinomialNB\n",
    "from sklearn.model_selection import GridSearchCV\n",
    "\n",
    "# SK-learn libraries for evaluation.\n",
    "from sklearn.metrics import confusion_matrix\n",
    "from sklearn import metrics\n",
    "from sklearn.metrics import classification_report\n",
    "\n",
    "# SK-learn library for importing the newsgroup data.\n",
    "from sklearn.datasets import fetch_20newsgroups\n",
    "\n",
    "# SK-learn libraries for feature extraction from text.\n",
    "from sklearn.feature_extraction.text import *\n",
    "\n",
    "#SK-learn libraries for shuffling\n",
    "from sklearn.utils import shuffle"
   ]
  },
  {
   "cell_type": "markdown",
   "metadata": {},
   "source": [
    "Load the data, stripping out metadata so that we learn classifiers that only use textual features. By default, newsgroups data is split into train and test sets. We further split the test so we have a dev set. Note that we specify 4 categories to use for this project. If you remove the categories argument from the fetch function, you'll get all 20 categories."
   ]
  },
  {
   "cell_type": "code",
   "execution_count": 36,
   "metadata": {},
   "outputs": [
    {
     "data": {
      "text/html": [
       "<div>\n",
       "<style scoped>\n",
       "    .dataframe tbody tr th:only-of-type {\n",
       "        vertical-align: middle;\n",
       "    }\n",
       "\n",
       "    .dataframe tbody tr th {\n",
       "        vertical-align: top;\n",
       "    }\n",
       "\n",
       "    .dataframe thead th {\n",
       "        text-align: right;\n",
       "    }\n",
       "</style>\n",
       "<table border=\"1\" class=\"dataframe\">\n",
       "  <thead>\n",
       "    <tr style=\"text-align: right;\">\n",
       "      <th></th>\n",
       "      <th>Id</th>\n",
       "      <th>Dates</th>\n",
       "      <th>DayOfWeek</th>\n",
       "      <th>PdDistrict</th>\n",
       "      <th>Address</th>\n",
       "      <th>X</th>\n",
       "      <th>Y</th>\n",
       "    </tr>\n",
       "  </thead>\n",
       "  <tbody>\n",
       "    <tr>\n",
       "      <th>0</th>\n",
       "      <td>0</td>\n",
       "      <td>2015-05-10 23:59:00</td>\n",
       "      <td>Sunday</td>\n",
       "      <td>BAYVIEW</td>\n",
       "      <td>2000 Block of THOMAS AV</td>\n",
       "      <td>-122.399588</td>\n",
       "      <td>37.735051</td>\n",
       "    </tr>\n",
       "    <tr>\n",
       "      <th>1</th>\n",
       "      <td>1</td>\n",
       "      <td>2015-05-10 23:51:00</td>\n",
       "      <td>Sunday</td>\n",
       "      <td>BAYVIEW</td>\n",
       "      <td>3RD ST / REVERE AV</td>\n",
       "      <td>-122.391523</td>\n",
       "      <td>37.732432</td>\n",
       "    </tr>\n",
       "    <tr>\n",
       "      <th>2</th>\n",
       "      <td>2</td>\n",
       "      <td>2015-05-10 23:50:00</td>\n",
       "      <td>Sunday</td>\n",
       "      <td>NORTHERN</td>\n",
       "      <td>2000 Block of GOUGH ST</td>\n",
       "      <td>-122.426002</td>\n",
       "      <td>37.792212</td>\n",
       "    </tr>\n",
       "    <tr>\n",
       "      <th>3</th>\n",
       "      <td>3</td>\n",
       "      <td>2015-05-10 23:45:00</td>\n",
       "      <td>Sunday</td>\n",
       "      <td>INGLESIDE</td>\n",
       "      <td>4700 Block of MISSION ST</td>\n",
       "      <td>-122.437394</td>\n",
       "      <td>37.721412</td>\n",
       "    </tr>\n",
       "    <tr>\n",
       "      <th>4</th>\n",
       "      <td>4</td>\n",
       "      <td>2015-05-10 23:45:00</td>\n",
       "      <td>Sunday</td>\n",
       "      <td>INGLESIDE</td>\n",
       "      <td>4700 Block of MISSION ST</td>\n",
       "      <td>-122.437394</td>\n",
       "      <td>37.721412</td>\n",
       "    </tr>\n",
       "  </tbody>\n",
       "</table>\n",
       "</div>"
      ],
      "text/plain": [
       "   Id                Dates DayOfWeek PdDistrict                   Address  \\\n",
       "0   0  2015-05-10 23:59:00    Sunday    BAYVIEW   2000 Block of THOMAS AV   \n",
       "1   1  2015-05-10 23:51:00    Sunday    BAYVIEW        3RD ST / REVERE AV   \n",
       "2   2  2015-05-10 23:50:00    Sunday   NORTHERN    2000 Block of GOUGH ST   \n",
       "3   3  2015-05-10 23:45:00    Sunday  INGLESIDE  4700 Block of MISSION ST   \n",
       "4   4  2015-05-10 23:45:00    Sunday  INGLESIDE  4700 Block of MISSION ST   \n",
       "\n",
       "            X          Y  \n",
       "0 -122.399588  37.735051  \n",
       "1 -122.391523  37.732432  \n",
       "2 -122.426002  37.792212  \n",
       "3 -122.437394  37.721412  \n",
       "4 -122.437394  37.721412  "
      ]
     },
     "execution_count": 36,
     "metadata": {},
     "output_type": "execute_result"
    }
   ],
   "source": [
    "#uploading test data\n",
    "test_data = pd.read_csv('test.csv')\n",
    "test_data.head()"
   ]
  },
  {
   "cell_type": "code",
   "execution_count": 51,
   "metadata": {},
   "outputs": [
    {
     "data": {
      "text/plain": [
       "702439"
      ]
     },
     "execution_count": 51,
     "metadata": {},
     "output_type": "execute_result"
    }
   ],
   "source": [
    "int(len(train_data_1)*0.8)"
   ]
  },
  {
   "cell_type": "code",
   "execution_count": 52,
   "metadata": {},
   "outputs": [],
   "source": [
    "#uploading train data\n",
    "train_data_df = pd.read_csv('train.csv')\n",
    "#shuffle data\n",
    "train_data_df = shuffle(train_data_df)\n",
    "train_data_df = train_data_df.reset_index()\n",
    "\n",
    "#setting train data \n",
    "# train_data_1 = train_data_df[['Dates','DayOfWeek','PdDistrict','Address','X','Y']]\n",
    "train_data_1 = train_data_df[['X','Y']]\n",
    "dev_data = train_data_1[int(len(train_data_1)*0.8):]\n",
    "train_data = train_data_1[:int(len(train_data_1)*0.8)]\n",
    "\n",
    "\n",
    "#setting train labels\n",
    "train_labels_1 = train_data_df[['Category']]\n",
    "dev_labels = train_labels_1[int(len(train_data_1)*0.8):]\n",
    "train_labels = train_labels_1[:int(len(train_data_1)*0.8)]\n",
    "\n"
   ]
  },
  {
   "cell_type": "code",
   "execution_count": 53,
   "metadata": {},
   "outputs": [
    {
     "name": "stdout",
     "output_type": "stream",
     "text": [
      "702439\n",
      "175610\n",
      "702439\n",
      "175610\n"
     ]
    }
   ],
   "source": [
    "print len(train_data)\n",
    "print len(dev_data)\n",
    "print len(train_labels)\n",
    "print len(dev_labels)"
   ]
  },
  {
   "cell_type": "code",
   "execution_count": 54,
   "metadata": {},
   "outputs": [
    {
     "data": {
      "text/html": [
       "<div>\n",
       "<style scoped>\n",
       "    .dataframe tbody tr th:only-of-type {\n",
       "        vertical-align: middle;\n",
       "    }\n",
       "\n",
       "    .dataframe tbody tr th {\n",
       "        vertical-align: top;\n",
       "    }\n",
       "\n",
       "    .dataframe thead th {\n",
       "        text-align: right;\n",
       "    }\n",
       "</style>\n",
       "<table border=\"1\" class=\"dataframe\">\n",
       "  <thead>\n",
       "    <tr style=\"text-align: right;\">\n",
       "      <th></th>\n",
       "      <th>X</th>\n",
       "      <th>Y</th>\n",
       "    </tr>\n",
       "  </thead>\n",
       "  <tbody>\n",
       "    <tr>\n",
       "      <th>0</th>\n",
       "      <td>-122.386571</td>\n",
       "      <td>37.750326</td>\n",
       "    </tr>\n",
       "    <tr>\n",
       "      <th>1</th>\n",
       "      <td>-122.456050</td>\n",
       "      <td>37.713194</td>\n",
       "    </tr>\n",
       "    <tr>\n",
       "      <th>2</th>\n",
       "      <td>-122.429789</td>\n",
       "      <td>37.766652</td>\n",
       "    </tr>\n",
       "    <tr>\n",
       "      <th>3</th>\n",
       "      <td>-122.459049</td>\n",
       "      <td>37.739631</td>\n",
       "    </tr>\n",
       "    <tr>\n",
       "      <th>4</th>\n",
       "      <td>-122.403405</td>\n",
       "      <td>37.775421</td>\n",
       "    </tr>\n",
       "  </tbody>\n",
       "</table>\n",
       "</div>"
      ],
      "text/plain": [
       "            X          Y\n",
       "0 -122.386571  37.750326\n",
       "1 -122.456050  37.713194\n",
       "2 -122.429789  37.766652\n",
       "3 -122.459049  37.739631\n",
       "4 -122.403405  37.775421"
      ]
     },
     "execution_count": 54,
     "metadata": {},
     "output_type": "execute_result"
    }
   ],
   "source": [
    "train_data.head()"
   ]
  },
  {
   "cell_type": "code",
   "execution_count": 55,
   "metadata": {},
   "outputs": [
    {
     "data": {
      "text/html": [
       "<div>\n",
       "<style scoped>\n",
       "    .dataframe tbody tr th:only-of-type {\n",
       "        vertical-align: middle;\n",
       "    }\n",
       "\n",
       "    .dataframe tbody tr th {\n",
       "        vertical-align: top;\n",
       "    }\n",
       "\n",
       "    .dataframe thead th {\n",
       "        text-align: right;\n",
       "    }\n",
       "</style>\n",
       "<table border=\"1\" class=\"dataframe\">\n",
       "  <thead>\n",
       "    <tr style=\"text-align: right;\">\n",
       "      <th></th>\n",
       "      <th>Category</th>\n",
       "    </tr>\n",
       "  </thead>\n",
       "  <tbody>\n",
       "    <tr>\n",
       "      <th>702439</th>\n",
       "      <td>PROSTITUTION</td>\n",
       "    </tr>\n",
       "    <tr>\n",
       "      <th>702440</th>\n",
       "      <td>OTHER OFFENSES</td>\n",
       "    </tr>\n",
       "    <tr>\n",
       "      <th>702441</th>\n",
       "      <td>OTHER OFFENSES</td>\n",
       "    </tr>\n",
       "    <tr>\n",
       "      <th>702442</th>\n",
       "      <td>ASSAULT</td>\n",
       "    </tr>\n",
       "    <tr>\n",
       "      <th>702443</th>\n",
       "      <td>ROBBERY</td>\n",
       "    </tr>\n",
       "  </tbody>\n",
       "</table>\n",
       "</div>"
      ],
      "text/plain": [
       "              Category\n",
       "702439    PROSTITUTION\n",
       "702440  OTHER OFFENSES\n",
       "702441  OTHER OFFENSES\n",
       "702442         ASSAULT\n",
       "702443         ROBBERY"
      ]
     },
     "execution_count": 55,
     "metadata": {},
     "output_type": "execute_result"
    }
   ],
   "source": [
    "dev_labels.head()"
   ]
  },
  {
   "cell_type": "code",
   "execution_count": 56,
   "metadata": {},
   "outputs": [
    {
     "data": {
      "text/html": [
       "<div>\n",
       "<style scoped>\n",
       "    .dataframe tbody tr th:only-of-type {\n",
       "        vertical-align: middle;\n",
       "    }\n",
       "\n",
       "    .dataframe tbody tr th {\n",
       "        vertical-align: top;\n",
       "    }\n",
       "\n",
       "    .dataframe thead th {\n",
       "        text-align: right;\n",
       "    }\n",
       "</style>\n",
       "<table border=\"1\" class=\"dataframe\">\n",
       "  <thead>\n",
       "    <tr style=\"text-align: right;\">\n",
       "      <th></th>\n",
       "      <th>X</th>\n",
       "      <th>Y</th>\n",
       "    </tr>\n",
       "  </thead>\n",
       "  <tbody>\n",
       "    <tr>\n",
       "      <th>702439</th>\n",
       "      <td>-122.416721</td>\n",
       "      <td>37.757168</td>\n",
       "    </tr>\n",
       "    <tr>\n",
       "      <th>702440</th>\n",
       "      <td>-122.437744</td>\n",
       "      <td>37.760779</td>\n",
       "    </tr>\n",
       "    <tr>\n",
       "      <th>702441</th>\n",
       "      <td>-122.398919</td>\n",
       "      <td>37.796954</td>\n",
       "    </tr>\n",
       "    <tr>\n",
       "      <th>702442</th>\n",
       "      <td>-122.435637</td>\n",
       "      <td>37.768169</td>\n",
       "    </tr>\n",
       "    <tr>\n",
       "      <th>702443</th>\n",
       "      <td>-122.434895</td>\n",
       "      <td>37.769114</td>\n",
       "    </tr>\n",
       "  </tbody>\n",
       "</table>\n",
       "</div>"
      ],
      "text/plain": [
       "                 X          Y\n",
       "702439 -122.416721  37.757168\n",
       "702440 -122.437744  37.760779\n",
       "702441 -122.398919  37.796954\n",
       "702442 -122.435637  37.768169\n",
       "702443 -122.434895  37.769114"
      ]
     },
     "execution_count": 56,
     "metadata": {},
     "output_type": "execute_result"
    }
   ],
   "source": [
    "dev_data.head()"
   ]
  },
  {
   "cell_type": "markdown",
   "metadata": {},
   "source": [
    "We are going to make a couple of adjustments in order for the models to run:\n",
    "* convert the Dates from string to date time\n",
    "* trunc the date to the day\n",
    "* transfor the Day of the Week in a number\n",
    "* Remove the District and Address components"
   ]
  },
  {
   "cell_type": "code",
   "execution_count": 57,
   "metadata": {},
   "outputs": [],
   "source": [
    "#copying the df in another to start the treatment\n",
    "train_data_co = train_data.copy()\n",
    "train_labels_co = train_labels.copy()\n",
    "dev_data_co = dev_data.copy()\n",
    "dev_labels_co = dev_labels.copy()"
   ]
  },
  {
   "cell_type": "code",
   "execution_count": null,
   "metadata": {},
   "outputs": [],
   "source": []
  },
  {
   "cell_type": "markdown",
   "metadata": {},
   "source": [
    "Running for this first baseline model a kNN, Multinomial and a Logistic Regression"
   ]
  },
  {
   "cell_type": "code",
   "execution_count": 58,
   "metadata": {},
   "outputs": [
    {
     "name": "stdout",
     "output_type": "stream",
     "text": [
      "For KNN\n"
     ]
    },
    {
     "name": "stderr",
     "output_type": "stream",
     "text": [
      "/Users/arthurlima/anaconda2/lib/python2.7/site-packages/ipykernel_launcher.py:18: DataConversionWarning: A column-vector y was passed when a 1d array was expected. Please change the shape of y to (n_samples, ), for example using ravel().\n"
     ]
    },
    {
     "name": "stdout",
     "output_type": "stream",
     "text": [
      "k-values:  1 accuracy: 0.00 f1-score: 0.18\n",
      "k-values:  2 accuracy: 0.00 f1-score: 0.17\n",
      "k-values:  3 accuracy: 0.00 f1-score: 0.18\n",
      "k-values:  4 accuracy: 0.00 f1-score: 0.20\n",
      "k-values:  5 accuracy: 0.00 f1-score: 0.20\n",
      "k-values:  7 accuracy: 0.00 f1-score: 0.21\n",
      "k-values:  9 accuracy: 0.00 f1-score: 0.22\n",
      "k-values: 11 accuracy: 0.00 f1-score: 0.22\n",
      "k-values: 13 accuracy: 0.00 f1-score: 0.22\n",
      "k-values: 14 accuracy: 0.00 f1-score: 0.22\n",
      "k-values: 15 accuracy: 0.00 f1-score: 0.22\n",
      "k-values: 16 accuracy: 0.00 f1-score: 0.22\n",
      "k-values: 17 accuracy: 0.00 f1-score: 0.22\n",
      "k-values: 18 accuracy: 0.00 f1-score: 0.22\n",
      "k-values: 19 accuracy: 0.00 f1-score: 0.22\n",
      "k-values: 20 accuracy: 0.00 f1-score: 0.22\n",
      "k-values: 50 accuracy: 0.00 f1-score: 0.22\n",
      "k-values:100 accuracy: 0.00 f1-score: 0.22\n",
      "k-values:200 accuracy: 0.00 f1-score: 0.21\n",
      "The best f1-score is: 0.22\n",
      "This value is found when the K is: 50\n",
      "The accuracy found is : 0.00\n",
      "\n"
     ]
    }
   ],
   "source": [
    "print \"For KNN\"\n",
    "#fitting a knn and understanding what is the optimal f1_score\n",
    "# we will run a for with the following numbers 1,2,3,4,5,7,9,11,13\n",
    "k_values = [1,2,3,4,5,7,9,11,13,14,15,16,17,18,19,20,50,100,200]\n",
    "# #creating a variable to receive the values of the report\n",
    "f1_ar = []\n",
    "ac_ar = []\n",
    "for ik in xrange(0,len(k_values)):\n",
    "    #adding to X the mini train data (using the modified train data from exercise 2.a)\n",
    "    X_3knn = train_data_co\n",
    "    #adding to y the mini train Label\n",
    "    y = train_labels_co\n",
    "\n",
    "    #we wil store in the variable neib the result of the function KNeighborsClassifier. \n",
    "    #the number of neighbors comes from the input of the user and it is passed using the variable k_values\n",
    "    neib = KNeighborsClassifier(n_neighbors=k_values[ik])\n",
    "    #fitting\n",
    "    neib.fit(X_3knn, y)\n",
    "\n",
    "    #printing the accuracy per k_value\n",
    "    preds = neib.predict(dev_data_co)\n",
    "    correct, total = 0, 0\n",
    "    for pred, label in zip(preds, dev_labels_co):\n",
    "        if pred == label: correct += 1\n",
    "        total += 1\n",
    "    f1 = metrics.f1_score(dev_labels_co, preds, average='weighted')\n",
    "    string = 'k-values:%3d accuracy: %3.2f f1-score: %3.2f' %(k_values[ik],1.0*correct/total,f1)\n",
    "    print string\n",
    "    \n",
    "    #returning the classification report \n",
    "    f1_ar.append(f1)\n",
    "    ac_ar.append(1.0*correct/total)\n",
    "\n",
    "best = 0\n",
    "for i3 in xrange(0,len(f1_ar)):\n",
    "    if f1_ar[i3] > best:\n",
    "        best = f1_ar[i3]\n",
    "        guery3 = k_values[i3]\n",
    "        ac = ac_ar[i3]\n",
    "\n",
    "print \"The best f1-score is: %3.2f\" %(best)\n",
    "print \"This value is found when the K is: \" + str(guery3)\n",
    "print \"The accuracy found is : %3.2f\" %(ac)\n",
    "print \"\"\n",
    "\n"
   ]
  },
  {
   "cell_type": "code",
   "execution_count": 69,
   "metadata": {},
   "outputs": [
    {
     "name": "stderr",
     "output_type": "stream",
     "text": [
      "/Users/arthurlima/anaconda2/lib/python2.7/site-packages/ipykernel_launcher.py:11: DataConversionWarning: A column-vector y was passed when a 1d array was expected. Please change the shape of y to (n_samples, ), for example using ravel().\n",
      "  # This is added back by InteractiveShellApp.init_path()\n"
     ]
    },
    {
     "name": "stdout",
     "output_type": "stream",
     "text": [
      "k-values:200 accuracy: 0.00 f1-score: 0.22\n"
     ]
    }
   ],
   "source": [
    "#making the interaction for the winning k\n",
    "#adding to X the mini train data (using the modified train data from exercise 2.a)\n",
    "X_3knn = train_data_co\n",
    "#adding to y the mini train Label\n",
    "y = train_labels_co\n",
    "\n",
    "#we wil store in the variable neib the result of the function KNeighborsClassifier. \n",
    "#the number of neighbors comes from the input of the user and it is passed using the variable k_values\n",
    "neib = KNeighborsClassifier(n_neighbors=guery3)\n",
    "#fitting\n",
    "neib.fit(X_3knn, y)\n",
    "\n",
    "#printing the accuracy per k_value\n",
    "preds = neib.predict(dev_data_co)\n",
    "correct, total = 0, 0\n",
    "for pred, label in zip(preds, dev_labels_co):\n",
    "    if pred == label: correct += 1\n",
    "    total += 1\n",
    "f1 = metrics.f1_score(dev_labels_co, preds, average='weighted')\n",
    "string = 'k-values:%3d accuracy: %3.2f f1-score: %3.2f' %(k_values[ik],1.0*correct/total,f1)\n",
    "print string"
   ]
  },
  {
   "cell_type": "code",
   "execution_count": 66,
   "metadata": {},
   "outputs": [],
   "source": [
    "#setting test data\n",
    "#uploading test data\n",
    "test_data_df = pd.read_csv('test.csv')\n",
    "\n",
    "# train_data_1 = train_data_df[['Dates','DayOfWeek','PdDistrict','Address','X','Y']]\n",
    "test_data_1 = test_data_df[['X','Y']]"
   ]
  },
  {
   "cell_type": "code",
   "execution_count": 68,
   "metadata": {},
   "outputs": [
    {
     "data": {
      "text/plain": [
       "array([[0.   , 0.15 , 0.   , ..., 0.115, 0.015, 0.025],\n",
       "       [0.   , 0.1  , 0.   , ..., 0.055, 0.105, 0.015],\n",
       "       [0.   , 0.035, 0.   , ..., 0.165, 0.   , 0.   ],\n",
       "       ...,\n",
       "       [0.   , 0.13 , 0.   , ..., 0.12 , 0.045, 0.005],\n",
       "       [0.005, 0.15 , 0.   , ..., 0.035, 0.03 , 0.06 ],\n",
       "       [0.   , 0.065, 0.   , ..., 0.025, 0.065, 0.01 ]])"
      ]
     },
     "execution_count": 68,
     "metadata": {},
     "output_type": "execute_result"
    }
   ],
   "source": [
    "neib.predict_proba(test_data_1)"
   ]
  },
  {
   "cell_type": "code",
   "execution_count": null,
   "metadata": {},
   "outputs": [],
   "source": []
  },
  {
   "cell_type": "code",
   "execution_count": null,
   "metadata": {},
   "outputs": [],
   "source": []
  }
 ],
 "metadata": {
  "kernelspec": {
   "display_name": "Python 2",
   "language": "python",
   "name": "python2"
  },
  "language_info": {
   "codemirror_mode": {
    "name": "ipython",
    "version": 2
   },
   "file_extension": ".py",
   "mimetype": "text/x-python",
   "name": "python",
   "nbconvert_exporter": "python",
   "pygments_lexer": "ipython2",
   "version": "2.7.15"
  }
 },
 "nbformat": 4,
 "nbformat_minor": 1
}
